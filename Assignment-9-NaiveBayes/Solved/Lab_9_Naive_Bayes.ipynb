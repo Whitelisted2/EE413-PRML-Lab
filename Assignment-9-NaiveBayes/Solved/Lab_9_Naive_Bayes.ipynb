{
  "cells": [
    {
      "cell_type": "markdown",
      "metadata": {
        "id": "1SxibeRm0eHP"
      },
      "source": [
        "## ***LAB 10 : Na&iuml;ve Bayes Classifier***\n",
        "\n",
        "  1. Binary Classification using Na&iuml;ve Bayes Classifier\n",
        "  \n",
        "  2. Sentiment Analysis using Na&iuml;ve Bayes"
      ]
    },
    {
      "cell_type": "code",
      "execution_count": 1,
      "metadata": {
        "id": "JL_2f9KRjax4"
      },
      "outputs": [],
      "source": [
        "import numpy as np\n",
        "import matplotlib.pyplot as plt"
      ]
    },
    {
      "cell_type": "markdown",
      "metadata": {
        "id": "3kFmTcwYjaLM"
      },
      "source": [
        "## Binary Classification using Naive Bayes Classifier\n",
        "\n",
        "Useful References : \n",
        "1. https://machinelearningmastery.com/naive-bayes-classifier-scratch-python/\n",
        "\n",
        "2. https://www.analyticsvidhya.com/blog/2021/01/a-guide-to-the-naive-bayes-algorithm/\n",
        "\n",
        "3. https://towardsdatascience.com/implementing-naive-bayes-algorithm-from-scratch-python-c6880cfc9c41\n",
        "\n",
        "**Note : The goal of this experiment is to perform and understand Naive Bayes classification by applying it on the below dataset, you can either fill in the below functions to get the result or you can create a class of your own using the above references to perform classification**"
      ]
    },
    {
      "cell_type": "markdown",
      "metadata": {
        "id": "buED4mnvjz_5"
      },
      "source": [
        "1. Generation of 2D training data"
      ]
    },
    {
      "cell_type": "code",
      "execution_count": 2,
      "metadata": {
        "colab": {
          "base_uri": "https://localhost:8080/",
          "height": 298
        },
        "id": "pXA9oMypj3OM",
        "outputId": "7907c6e3-b106-4492-e35f-26a1f03e5a63"
      },
      "outputs": [
        {
          "data": {
            "text/plain": [
              "Text(0.5, 1.0, 'Data visualization')"
            ]
          },
          "execution_count": 2,
          "metadata": {},
          "output_type": "execute_result"
        },
        {
          "data": {
            "image/png": "[encoded data removed]",
            "text/plain": [
              "<Figure size 432x288 with 1 Axes>"
            ]
          },
          "metadata": {
            "needs_background": "light"
          },
          "output_type": "display_data"
        }
      ],
      "source": [
        "mean1=np.array([0,0])\n",
        "mean2=np.array([4,5])\n",
        "var=np.array([[1,0.1],[0.1,1]])\n",
        "np.random.seed(0)\n",
        "data1=np.random.multivariate_normal(mean1,var,50)\n",
        "data2=np.random.multivariate_normal(mean2,var,50)\n",
        "data=np.concatenate((data1,data2))\n",
        "label=np.concatenate((np.zeros(data1.shape[0]),np.ones(data2.shape[0])))\n",
        "\n",
        "plt.figure()\n",
        "plt.scatter(data[:,0],data[:,1],c=label)\n",
        "plt.title('Data visualization')\n"
      ]
    },
    {
      "cell_type": "markdown",
      "metadata": {
        "id": "6cJBcLjTpMpX"
      },
      "source": [
        "2. Split the Dataset by Class Values (Create a Dictionary)"
      ]
    },
    {
      "cell_type": "code",
      "execution_count": 58,
      "metadata": {
        "colab": {
          "base_uri": "https://localhost:8080/"
        },
        "id": "vYfrEmkJn8I7",
        "outputId": "aac75912-f557-45a1-e709-08b3e367415c"
      },
      "outputs": [
        {
          "name": "stdout",
          "output_type": "stream",
          "text": [
            "This is the Class Dictionary : \n",
            "{0: [array([-1.57668985, -1.03982262]), array([-2.22908837,  0.77738534]), array([-0.72944014, -2.04059601]), array([-0.60307093, -0.80613793]), array([-0.1988887,  0.351987 ]), array([-1.0823819 ,  0.86873075]), array([-0.64602276, -0.4827786 ]), array([-0.55301333, -0.10534224]), array([-0.97041435, -1.24566304]), array([ 0.34076762, -0.80512206]), array([1.45488724, 2.3318086 ]), array([-0.14322361, -1.13894247]), array([-0.70767693, -2.65891323]), array([ 0.09163132, -0.15950217]), array([-2.12241532, -0.15106366]), array([-0.36859122,  0.13876704]), array([ 1.9871582 , -0.67035913]), array([0.15313648, 0.36290063]), array([-1.71898891, -0.10582707]), array([0.49004011, 0.08445841]), array([ 1.73020468, -0.1749493 ]), array([-0.04321608,  2.57402376]), array([0.67183735, 0.084099  ]), array([0.40754152, 1.45065429]), array([1.3396092 , 1.05418816]), array([0.40455369, 0.92363786]), array([ 1.17081537, -0.41316892]), array([-0.26643325,  0.30823425]), array([-0.25223481,  0.15357382]), array([0.71376003, 0.22709168]), array([0.73990561, 0.25751442]), array([ 1.761071  , -0.55498015]), array([ 0.1379401 , -0.40110559]), array([0.89854368, 1.51943123]), array([0.63802444, 0.70771651]), array([-0.6272324 , -0.45418367]), array([-0.01665582, -1.67334851]), array([ 0.16100003, -0.75776912]), array([1.03410461, 0.25749629]), array([0.19337668, 0.2687304 ]), array([0.25980547, 1.46839103]), array([ 0.68519909, -1.3758881 ]), array([-2.37551849,  0.16808376]), array([-0.75350908, -0.99490358]), array([0.08674368, 1.50143912]), array([-0.52103706,  1.11904511]), array([-0.80961024,  0.50068852]), array([-0.73827208,  0.2096953 ]), array([-1.20578537,  1.19021132]), array([-0.36378319,  0.17554214])], 1: [array([3.50752233, 2.6993138 ]), array([4.29192581, 6.59250797]), array([3.56619087, 7.17383233]), array([4.80815598, 4.80534012]), array([1.58074851, 4.56706754]), array([2.00718797, 4.22277444]), array([3.35739154, 6.92001259]), array([3.6604525 , 5.73706073]), array([3.40148307, 4.19351521]), array([2.92595151, 5.16322159]), array([4.45833583, 3.98333488]), array([2.88905394, 5.66858736]), array([4.61548321, 5.41472741]), array([3.08219469, 6.56324233]), array([3.22807915, 4.77474657]), array([4.20924569, 5.9327244 ]), array([4.4787459 , 5.52145107]), array([4.01779082, 5.92532132]), array([3.71211986, 4.43265775]), array([4.43956151, 3.97306561]), array([4.81119332, 6.40069914]), array([3.45039959, 5.30238367]), array([1.59903643, 3.86618863]), array([3.92764978, 6.42628439]), array([5.28554342, 5.66626269]), array([2.90126409, 6.19995457]), array([5.10671678, 4.99793313]), array([4.51808911, 4.62793958]), array([3.88890452, 3.44002436]), array([5.14468414, 5.55728691]), array([3.0749813, 6.6637202]), array([3.23715953, 4.35462184]), array([4.3423914 , 6.47522321]), array([5.77804351, 4.7055156 ]), array([2.90632196, 4.33154509]), array([3.10326381, 4.53088183]), array([3.80127866, 3.92783617]), array([4.30978752, 6.22424252]), array([5.05838861, 5.1332605 ]), array([4.32610657, 5.34955732]), array([5.18487428, 4.34018354]), array([5.96882436, 3.98581601]), array([4.61100889, 3.461623  ]), array([4.78403921, 5.854026  ]), array([3.51338894, 6.58356026]), array([4.77966518, 6.13795151]), array([4.81271386, 4.24555198]), array([3.72700442, 4.49685086]), array([2.87520143, 4.98004819]), array([1.49913108, 4.29227149])]}\n"
          ]
        }
      ],
      "source": [
        "def class_dictionary(data,label):\n",
        "  class_dict = {}\n",
        "\n",
        "  \n",
        "  ## Write your code here\n",
        "\n",
        "  return class_dict"
      ]
    },
    {
      "cell_type": "markdown",
      "metadata": {
        "id": "C2FlXCa5q2rt"
      },
      "source": [
        "3. Calculate Mean, Std deviation and count for each column in a dataset"
      ]
    },
    {
      "cell_type": "code",
      "execution_count": 60,
      "metadata": {
        "colab": {
          "base_uri": "https://localhost:8080/"
        },
        "id": "Vhy2NkxQq8EO",
        "outputId": "70e1e354-c534-41db-a23a-530f84dcf182"
      },
      "outputs": [
        {
          "name": "stdout",
          "output_type": "stream",
          "text": [
            "This is the Variable Dictionary : \n",
            "{0: [(-0.08143074021616499, 0.9927104621843587, 50), (0.05650317153356914, 1.0255393627439435, 50)], 1: [(3.891293527338697, 1.0208299436699904, 50), (5.136474984683965, 1.0354673362145788, 50)]}\n"
          ]
        }
      ],
      "source": [
        "def get_variables(class_dict):\n",
        "  var_dict = {}\n",
        "\n",
        "  ## Write your code here\n",
        "\n",
        "  return var_dict"
      ]
    },
    {
      "cell_type": "markdown",
      "metadata": {
        "id": "zKFDa--0sqlR"
      },
      "source": [
        "3. Calculate Class Probabilities"
      ]
    },
    {
      "cell_type": "code",
      "execution_count": 61,
      "metadata": {
        "id": "_cEkA46bsteW"
      },
      "outputs": [],
      "source": [
        "def calculate_probability(x,mean,stdev):\n",
        "  exponent = exp(-((x-mean)**2 / (2 * stdev**2 )))\n",
        "  return (1 / (sqrt(2 * pi) * stdev)) * exponent\n",
        "\n",
        "def calculate_class_probabilities(summaries,row):\n",
        "  probabilities = dict()\n",
        "\n",
        "  ## Write your code here to calculate the class probabilities\n",
        "  '''\n",
        "  You can use the above function (calculate_probability) to calculate probability of an individual data point belonging to a particular class \n",
        "  based on mean and std deviation of that class\n",
        "  \n",
        "  '''\n",
        "  return probabilities"
      ]
    },
    {
      "cell_type": "markdown",
      "metadata": {
        "id": "14kbEgqEw9_a"
      },
      "source": [
        "4. Test the model using some samples"
      ]
    },
    {
      "cell_type": "code",
      "execution_count": 54,
      "metadata": {
        "colab": {
          "base_uri": "https://localhost:8080/",
          "height": 314
        },
        "id": "x2TpLdVWw9CS",
        "outputId": "b0757acf-9cfd-4cd8-a767-233eb9408252"
      },
      "outputs": [
        {
          "name": "stdout",
          "output_type": "stream",
          "text": [
            "Test Data Size :  20\n"
          ]
        },
        {
          "data": {
            "text/plain": [
              "Text(0.5, 1.0, 'Data visualization')"
            ]
          },
          "execution_count": 54,
          "metadata": {},
          "output_type": "execute_result"
        },
        {
          "data": {
            "image/png": "[encoded data removed]",
            "text/plain": [
              "<Figure size 432x288 with 1 Axes>"
            ]
          },
          "metadata": {
            "needs_background": "light"
          },
          "output_type": "display_data"
        }
      ],
      "source": [
        "## Test Data Generation\n",
        "\n",
        "mean1=np.array([0,0])\n",
        "mean2=np.array([4,5])\n",
        "var=np.array([[1,0.1],[0.1,1]])\n",
        "np.random.seed(0)\n",
        "data1=np.random.multivariate_normal(mean1,var,10)\n",
        "data2=np.random.multivariate_normal(mean2,var,10)\n",
        "test_data=np.concatenate((data1,data2))\n",
        "y_test=np.concatenate((np.zeros(data1.shape[0]),np.ones(data2.shape[0])))\n",
        "print('Test Data Size : ',test_data.shape[0])\n",
        "plt.figure()\n",
        "plt.scatter(data[:,0],data[:,1],c=label)\n",
        "plt.title('Data visualization')"
      ]
    },
    {
      "cell_type": "markdown",
      "metadata": {
        "id": "OLbY6KhzzoHw"
      },
      "source": [
        "Testing for a sample point"
      ]
    },
    {
      "cell_type": "code",
      "execution_count": 63,
      "metadata": {
        "colab": {
          "base_uri": "https://localhost:8080/"
        },
        "id": "cVcXm0UCxTcQ",
        "outputId": "f1a66200-ad53-4b8b-f09c-8b1f69ef05ed"
      },
      "outputs": [
        {
          "name": "stdout",
          "output_type": "stream",
          "text": [
            "Class Probabilites for the first sample of test dataset : \n",
            "{0: 0.014197204018409897, 1: 8.332975086162198e-16}\n"
          ]
        }
      ],
      "source": [
        "class_dict = class_dictionary(data,label)\n",
        "var_dict = get_variables(class_dict)\n",
        "out = calculate_class_probabilities(var_dict,test_data[0])\n",
        "print('Class Probabilites for the first sample of test dataset : ')\n",
        "print(out)"
      ]
    },
    {
      "cell_type": "markdown",
      "metadata": {
        "id": "mjV6DO0myhKQ"
      },
      "source": [
        "**As seen above the class probability for the 1st sample is given, we can observe that probability is higher for class 0 than 1 and hence imply that this datapoint belongs to class 0**\n",
        "\n",
        "\n",
        "Now Calculate the class probabilities for all the data points in the test dataset and calculate the accuracy by comparing the predicted labels with the true test labels\n"
      ]
    },
    {
      "cell_type": "code",
      "execution_count": null,
      "metadata": {
        "id": "Rs-UXbl2y-2N"
      },
      "outputs": [],
      "source": [
        "## Write your code here"
      ]
    },
    {
      "cell_type": "markdown",
      "metadata": {
        "id": "Qc_SfqHkz3Kz"
      },
      "source": [
        "5. Use the Sci-kit Learn library to perform Gaussian Naive Bayes classifier on the above dataset, also report the accuracy and confusion matrix for the same"
      ]
    },
    {
      "cell_type": "code",
      "execution_count": null,
      "metadata": {
        "id": "vt0veSsf0BVV"
      },
      "outputs": [],
      "source": [
        "## Write your code here"
      ]
    },
    {
      "cell_type": "markdown",
      "metadata": {
        "id": "1UTNODz-zsf1"
      },
      "source": [
        "## Sentiment Analysis using Naive Bayes Classifier\n",
        "\n",
        "Go through the following [article](https://www.analyticsvidhya.com/blog/2021/07/performing-sentiment-analysis-with-naive-bayes-classifier/) and implement the same \n",
        "\n",
        "**Keypoints** : \n",
        "  \n",
        "  1. The link to the dataset is given in the above article, download the same to perform sentiment analysis\n",
        "\n",
        "  2. Understanding how to deal with text data is very important since it requires a lot of preprocessing, you can go through this [article](https://www.analyticsvidhya.com/blog/2021/06/text-preprocessing-in-nlp-with-python-codes/) if you are interested in learning more about it\n",
        "  \n",
        "  3. Split the dataset into train-test and train the model\n",
        "  \n",
        "  4. Report the accuracy metrics and try some sample prediction outside of those present in the dataset\n",
        "\n",
        "\n",
        "**Note : The goal of this experiment is to explore a practical use case of Naive bayes classifier as well as to understand how to deal with textual data, you can follow any other open source implemetations of sentiment analysis using naive bayes also**\n",
        "\n",
        "Other References : \n",
        "\n",
        "1. https://towardsdatascience.com/sentiment-analysis-introduction-to-naive-bayes-algorithm-96831d77ac91\n",
        "\n",
        "2. https://gist.github.com/CateGitau/6608912ca92733036c090676c61c13cd"
      ]
    },
    {
      "cell_type": "markdown",
      "metadata": {},
      "source": [
        "https://github.com/Hrd2D/Sentiment-analysis-on-Google-Play-store-apps-reviews remove later"
      ]
    },
    {
      "cell_type": "code",
      "execution_count": null,
      "metadata": {},
      "outputs": [],
      "source": []
    },
    {
      "cell_type": "code",
      "execution_count": null,
      "metadata": {},
      "outputs": [],
      "source": []
    },
    {
      "cell_type": "code",
      "execution_count": null,
      "metadata": {
        "id": "5x6A4Mp4zw0E"
      },
      "outputs": [],
      "source": [
        "## Write your code here"
      ]
    }
  ],
  "metadata": {
    "colab": {
      "name": "Lab_10_Naive_Bayes.ipynb",
      "provenance": []
    },
    "kernelspec": {
      "display_name": "Python 3.9.0 64-bit",
      "language": "python",
      "name": "python3"
    },
    "language_info": {
      "codemirror_mode": {
        "name": "ipython",
        "version": 3
      },
      "file_extension": ".py",
      "mimetype": "text/x-python",
      "name": "python",
      "nbconvert_exporter": "python",
      "pygments_lexer": "ipython3",
      "version": "3.9.0"
    },
    "vscode": {
      "interpreter": {
        "hash": "5070ada8c704805c7dd85c5b71cd19812da32b57520493b705b2d0b936990ac0"
      }
    }
  },
  "nbformat": 4,
  "nbformat_minor": 0
}
