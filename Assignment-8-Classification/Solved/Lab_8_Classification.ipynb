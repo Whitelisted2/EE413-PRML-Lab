{
  "cells": [
    {
      "cell_type": "markdown",
      "metadata": {
        "id": "3Mv3HAc5lxDS"
      },
      "source": [
        "# LAB 8 : Classification\n",
        "\n",
        "  1. Support Vector Machines \n",
        "  2. K-Nearest Neighbors\n",
        "  3. Classification on MNIST Digit "
      ]
    },
    {
      "cell_type": "code",
      "execution_count": 33,
      "metadata": {
        "id": "NS7TheMHWvey"
      },
      "outputs": [],
      "source": [
        "import numpy as np\n",
        "import matplotlib.pyplot as plt\n",
        "import math"
      ]
    },
    {
      "cell_type": "markdown",
      "metadata": {
        "id": "SijY2JQYm6MH"
      },
      "source": [
        "# Support Vector Machines (SVM)\n",
        "\n"
      ]
    },
    {
      "cell_type": "markdown",
      "metadata": {
        "id": "YrR-b3HRqHyt"
      },
      "source": [
        "1. Try to maximize the margin of separation between data.\n",
        "2. Instead of learning wx+b=0  separating hyperplane directly (like logistic regression), SVM try to learn wx+b=0, such that, the margin between two hyperplanes wx+b=1 and wx+b=-1 (also known as support vectors) is maximum. \n",
        "3. Margin between wx+b=1 and wx+b=-1 hyperplane is $\\frac{2}{||w||}$\n",
        "4. we have a constraint optimization problem of maximizing $\\frac{2}{||w||}$, with constraints wx+b>=1 (for +ve class) and wx+b<=-1 (for -ve class).\n",
        "5. As $y_{i}=1$ for +ve class and $y_{i}=-1$ for -ve class, the constraint can be re-written as:\n",
        "$$y(wx+b)>=1$$\n",
        "\n",
        "6. Final optimization is (i.e to find w and b):\n",
        "$$\\min_{||w||}\\frac{1}{2}||w||,$$\n",
        "$$y(wx+b) \\geq 1,~\\forall ~data $$\n",
        "\n",
        "\n",
        "\n",
        "Acknowledgement:\n",
        "\n",
        "https://pythonprogramming.net/predictions-svm-machine-learning-tutorial/\n",
        "\n",
        "https://medium.com/deep-math-machine-learning-ai/chapter-3-1-svm-from-scratch-in-python-86f93f853dc"
      ]
    },
    {
      "cell_type": "markdown",
      "metadata": {
        "id": "0WCG5fd2n6fo"
      },
      "source": [
        "## Data generation:\n",
        "1. Generate 2D gaussian data with fixed mean and variance for 2 class.(var=Identity, class1: mean[-4,-4], class2: mean[1,1], No. of data 25 from each class)\n",
        "2. create the label matrix\n",
        "3. Plot the generated data"
      ]
    },
    {
      "cell_type": "code",
      "execution_count": 34,
      "metadata": {
        "colab": {
          "base_uri": "https://localhost:8080/",
          "height": 317
        },
        "id": "a72yGlURm9aR",
        "outputId": "d533dcbc-0ca4-49c4-f02f-5e8cc8a44aca"
      },
      "outputs": [
        {
          "name": "stdout",
          "output_type": "stream",
          "text": [
            "(50, 2)\n",
            "(50,)\n"
          ]
        },
        {
          "data": {
            "text/plain": [
              "<matplotlib.collections.PathCollection at 0x25f1ebddb80>"
            ]
          },
          "execution_count": 34,
          "metadata": {},
          "output_type": "execute_result"
        },
        {
          "data": {
            "image/png": "[encoded data removed]",
            "text/plain": [
              "<Figure size 432x288 with 1 Axes>"
            ]
          },
          "metadata": {
            "needs_background": "light"
          },
          "output_type": "display_data"
        }
      ],
      "source": [
        "No_sample = 50\n",
        "mean1=np.array([-4,-4])\n",
        "var1=np.array([[1,0],[0,1]])\n",
        "mean2=np.array([1,1])\n",
        "var2=var1\n",
        "data1=np.random.multivariate_normal(mean1,var1,int(No_sample/2))\n",
        "data2=np.random.multivariate_normal(mean2,var2,int(No_sample/2))\n",
        "\n",
        "# training data generation\n",
        "X=np.concatenate((data1,data2))\n",
        "print(X.shape)\n",
        "y=np.concatenate((-1*np.ones(data1.shape[0]),np.ones(data2.shape[0])))\n",
        "print(y.shape)\n",
        "\n",
        "plt.figure()\n",
        "plt.scatter(X[:,0],X[:,1],marker='o',c=y)"
      ]
    },
    {
      "cell_type": "markdown",
      "metadata": {
        "id": "Phj7pyfloB14"
      },
      "source": [
        "Create a data dictionary, which contains both label and data points."
      ]
    },
    {
      "cell_type": "code",
      "execution_count": 35,
      "metadata": {
        "id": "bHCOeQPGoBgn"
      },
      "outputs": [],
      "source": [
        "positiveX=[]\n",
        "negativeX=[]\n",
        "\n",
        "## Write your code here\n",
        "# go through y, append corresponding X[i] values to the lists\n",
        "for ind, val in enumerate(y):\n",
        "    if val == 1:\n",
        "        positiveX.append(X[ind])\n",
        "    else:\n",
        "        negativeX.append(X[ind])\n",
        "\n",
        "#our data dictionary\n",
        "data_dict = {-1:np.array(negativeX), 1:np.array(positiveX)} \n",
        "\n",
        "# print(data_dict) \n",
        "# -1 : array of all (x,y) in class -1\n",
        "# 1 : array of all (x,y) in class 1\n"
      ]
    },
    {
      "cell_type": "markdown",
      "metadata": {
        "id": "0eLaHuaEoGua"
      },
      "source": [
        "## SVM training\n",
        "1. create a search space for w (i.e w1=w2),[0, 0.5*max((abs(feat)))] and  for b, [-max((abs(feat))),max((abs(feat)))], with appropriate step.\n",
        "2. we will start with a higher step and find optimal w and b, then we will reduce the step and again re-evaluate the optimal one.\n",
        "\n",
        "3. In each step, we will take transform of w, [1,1], [-1,1],[1,-1] and [-1,-1] to search arround the w. \n",
        "\n",
        "4. In every pass (for a fixed step size) we will store all the w, b and its corresponding ||w||, which make the data correctly classified as per the condition $y(wx+b) \\geq 1$. \n",
        "\n",
        "5. Obtain the optimal hyperplane having minimum ||w||.\n",
        "\n",
        "6. Start with the optimal w and repeat the same (step 3,4 and 5) for a reduced step size.\n"
      ]
    },
    {
      "cell_type": "code",
      "execution_count": 36,
      "metadata": {
        "id": "S0SJ1SkDoHk4"
      },
      "outputs": [],
      "source": [
        "# Just a searching algorithm, not a complicated optimization algorithm, (just for understanding of concepts through visualization)\n",
        "\n",
        "def SVM_Training(data_dict):\n",
        "    # insert your code here\n",
        "\n",
        "    # step 1:\n",
        "    wb_dict = {}\n",
        "\n",
        "    transforms = [[1,1], [-1,1], [-1,-1], [1,-1]]\n",
        "    all_data = []\n",
        "    w = 0\n",
        "    b = 0\n",
        "\n",
        "    # for each label\n",
        "    for yi in data_dict:\n",
        "        # for each FV in that label\n",
        "        for featureset in data_dict[yi]:\n",
        "            # for each feature\n",
        "            for feature in featureset:\n",
        "                all_data.append(feature)\n",
        "    # from this 1d array, get max, min\n",
        "    max_val = max(all_data)\n",
        "    min_val = min(all_data)\n",
        "\n",
        "    # support vectors: yi(xi.w+b) = 1\n",
        "    w_step = [max_val * 0.1, max_val * 0.01, max_val * 0.001] # reducing steps of w\n",
        "    \n",
        "    b_step = 2\n",
        "    b_multiple = 5\n",
        "    w_best = max_val * 0.5\n",
        "\n",
        "    # diff steps of w\n",
        "    for step in w_step:\n",
        "        w = np.array([w_best, w_best]) # take w1=w2. each time we run this loop we narrow down on best w\n",
        "        optimized = False\n",
        "        while not optimized:\n",
        "            for b in np.arange(-1*(max_val*b_step), max_val*b_step, step*b_multiple): # diff values of b\n",
        "                for tr in transforms: # transform w in diff dirns\n",
        "                    w_t = w*tr\n",
        "                    correct_class = True\n",
        "                    # go thru each FV in each label, check misclassificn; if any are misclassified then return false\n",
        "                    # this is quite strict but relaxations could be done as well keeping a slack variable (in non-linsep cases)\n",
        "                    for yi in data_dict:\n",
        "                        for xi in data_dict[yi]:\n",
        "                            # condition for correct classification\n",
        "                            if not yi*(np.dot(w_t, xi) + b) >= 1:\n",
        "                                correct_class = False\n",
        "                                break\n",
        "                    # if data was linearly separated\n",
        "                    if correct_class:\n",
        "                        wb_dict[np.linalg.norm(w_t)] = [w_t, b] # ||w|| : [w,b]\n",
        "            # keep decrementing w by step until it hits 0\n",
        "            if w[0] < 0:\n",
        "                optimized = True\n",
        "                print(\"w got optimized\")\n",
        "            else:\n",
        "                w = w - step\n",
        "\n",
        "        norms = sorted([n for n in wb_dict])    # arranges in increasing order of ||w||\n",
        "        w, b = wb_dict[norms[0]]                # get the w, b of corresponding min ||w||\n",
        "        w_best = w[0]\n",
        "\n",
        "    return w, b\n"
      ]
    },
    {
      "cell_type": "markdown",
      "metadata": {
        "id": "Z61b1mAfoOg0"
      },
      "source": [
        "**Training**"
      ]
    },
    {
      "cell_type": "code",
      "execution_count": 37,
      "metadata": {
        "colab": {
          "base_uri": "https://localhost:8080/"
        },
        "id": "oL5YnFPeoO--",
        "outputId": "38e70ea6-086d-421c-82ee-b3e4cc3eff5c"
      },
      "outputs": [
        {
          "name": "stdout",
          "output_type": "stream",
          "text": [
            "w got optimized\n",
            "w got optimized\n",
            "w got optimized\n",
            "[0.65891614 0.65891614]\n",
            "1.9707309077808368\n"
          ]
        }
      ],
      "source": [
        "# All the required variables \n",
        "w=[] # Weights 2 dimensional vector\n",
        "b=[] # Bias\n",
        "\n",
        "w,b=SVM_Training(data_dict)\n",
        "print(w)\n",
        "print(b)"
      ]
    },
    {
      "cell_type": "markdown",
      "metadata": {
        "id": "iJNvumy3oXXi"
      },
      "source": [
        "## Visualization of the SVM separating hyperplanes (after training)"
      ]
    },
    {
      "cell_type": "code",
      "execution_count": 38,
      "metadata": {
        "id": "fsGQFTlIoYKj"
      },
      "outputs": [],
      "source": [
        "def visualize(data_dict):\n",
        "       \n",
        "        plt.scatter(X[:,0],X[:,1],marker='o',c=y)\n",
        "\n",
        "        # hyperplane = x.w+b\n",
        "        # v = x.w+b\n",
        "        # psv = 1\n",
        "        # nsv = -1\n",
        "        # dec = 0\n",
        "        def hyperplane_value(x,w,b,v):\n",
        "            return (-w[0]*x-b+v) / w[1]\n",
        "\n",
        "        \n",
        "        hyp_x_min = np.min([np.min(data_dict[1]),np.min(data_dict[-1])])\n",
        "        hyp_x_max = np.max([np.max(data_dict[1]),np.max(data_dict[-1])])\n",
        "\n",
        "        # (w.x+b) = 1\n",
        "        # positive support vector hyperplane\n",
        "        psv1 = hyperplane_value(hyp_x_min, w, b, 1)\n",
        "        psv2 = hyperplane_value(hyp_x_max, w, b, 1)\n",
        "        plt.plot([hyp_x_min,hyp_x_max],[psv1,psv2], 'k')\n",
        "\n",
        "        # (w.x+b) = -1\n",
        "        # negative support vector hyperplane\n",
        "        nsv1 = hyperplane_value(hyp_x_min, w, b, -1)\n",
        "        nsv2 = hyperplane_value(hyp_x_max, w, b, -1)\n",
        "        plt.plot([hyp_x_min,hyp_x_max],[nsv1,nsv2], 'k')\n",
        "\n",
        "        # (w.x+b) = 0\n",
        "        # positive support vector hyperplane\n",
        "        db1 = hyperplane_value(hyp_x_min, w, b, 0)\n",
        "        db2 = hyperplane_value(hyp_x_max, w, b, 0)\n",
        "        plt.plot([hyp_x_min,hyp_x_max],[db1,db2], 'y--')\n",
        "        \n",
        "        \n",
        "        "
      ]
    },
    {
      "cell_type": "code",
      "execution_count": 39,
      "metadata": {
        "colab": {
          "base_uri": "https://localhost:8080/",
          "height": 265
        },
        "id": "uqu0Z8Nnodvy",
        "outputId": "43f5d251-e980-45a9-8bc3-735c47753e8f"
      },
      "outputs": [
        {
          "data": {
            "image/png": "[encoded data removed]",
            "text/plain": [
              "<Figure size 432x288 with 1 Axes>"
            ]
          },
          "metadata": {
            "needs_background": "light"
          },
          "output_type": "display_data"
        }
      ],
      "source": [
        "fig = plt.figure()\n",
        "visualize(data_dict)"
      ]
    },
    {
      "cell_type": "markdown",
      "metadata": {
        "id": "Hc2Tv8o0obsa"
      },
      "source": [
        "**Testing**"
      ]
    },
    {
      "cell_type": "code",
      "execution_count": 40,
      "metadata": {
        "id": "Rb2tGapZohLM"
      },
      "outputs": [],
      "source": [
        "def predict(data,w,b):\n",
        "  y_pred = np.sign(np.dot(data,w) + b) ## write your code here\n",
        "  return y_pred"
      ]
    },
    {
      "cell_type": "code",
      "execution_count": 41,
      "metadata": {
        "colab": {
          "base_uri": "https://localhost:8080/",
          "height": 300
        },
        "id": "mo2AIA3qopXm",
        "outputId": "4bb39504-422a-4e1d-aeeb-0191856f7f4e"
      },
      "outputs": [
        {
          "name": "stdout",
          "output_type": "stream",
          "text": [
            "test accuracy= 100.0\n"
          ]
        },
        {
          "data": {
            "text/plain": [
              "<matplotlib.collections.PathCollection at 0x25f1ec67490>"
            ]
          },
          "execution_count": 41,
          "metadata": {},
          "output_type": "execute_result"
        },
        {
          "data": {
            "image/png": "[encoded data removed]",
            "text/plain": [
              "<Figure size 432x288 with 1 Axes>"
            ]
          },
          "metadata": {
            "needs_background": "light"
          },
          "output_type": "display_data"
        }
      ],
      "source": [
        "No_test_sample=40\n",
        "\n",
        "# testing dataset\n",
        "data1=np.random.multivariate_normal(mean1,var1,int(No_test_sample/2))\n",
        "data2=np.random.multivariate_normal(mean2,var2,int(No_test_sample/2))\n",
        "test_data=np.concatenate((data1,data2))\n",
        "y_gr=np.concatenate((-1*np.ones(data1.shape[0]),np.ones(data2.shape[0])))\n",
        "\n",
        "# evaluate with the trained model\n",
        "\n",
        "y_pred = predict(test_data,w,b)\n",
        "misclass = np.abs(0.5*np.sum(y_pred - y_gr)) # 1-(-1) = 2, -1-(1) = -2 => 1, -1 => 1\n",
        "accuracy = (1-(misclass/y_pred.shape[0]))*100\n",
        "print('test accuracy=',accuracy)\n",
        "\n",
        "#  Visualization\n",
        "plt.figure()\n",
        "visualize(data_dict)\n",
        "plt.scatter(test_data[:,0],test_data[:,1],marker='x',c=y_gr)\n"
      ]
    },
    {
      "cell_type": "markdown",
      "metadata": {
        "id": "SZ2tNKujp4GY"
      },
      "source": [
        "**Use the Sci-kit Learn Package and perform Classification on the above dataset using the SVM algorithm**"
      ]
    },
    {
      "cell_type": "code",
      "execution_count": 42,
      "metadata": {
        "id": "GEeB59yip7pI"
      },
      "outputs": [
        {
          "name": "stdout",
          "output_type": "stream",
          "text": [
            "Training Accuracy: 100.0\n",
            "Testing Accuracy: 100.0\n",
            "Confusion matrix=\n",
            "  [[20  0]\n",
            " [ 0 20]]\n"
          ]
        }
      ],
      "source": [
        "## Write your code here\n",
        "from sklearn.svm import SVC\n",
        "from sklearn.metrics import confusion_matrix as conf_mat\n",
        "\n",
        "# training data: (X, y)\n",
        "# testing data: (test_data, y_gr)\n",
        "model = SVC(kernel = \"linear\")\n",
        "model.fit(X, y)\n",
        "\n",
        "# get prediction score on test dataset\n",
        "y_pred = model.predict(test_data)\n",
        "sc = model.score(test_data, y_gr)\n",
        "st = model.score(X, y)\n",
        "\n",
        "print(\"Training Accuracy: \" + str(st*100))\n",
        "print(\"Testing Accuracy: \" + str(sc*100))\n",
        "print(\"Confusion matrix=\\n \", conf_mat(y_gr,y_pred))\n"
      ]
    },
    {
      "cell_type": "markdown",
      "metadata": {
        "id": "mcLrD0lXmGu8"
      },
      "source": [
        "# K-Nearest Neighbours (KNN)"
      ]
    },
    {
      "cell_type": "code",
      "execution_count": 43,
      "metadata": {
        "colab": {
          "base_uri": "https://localhost:8080/",
          "height": 298
        },
        "id": "lo8_k4OnmQSo",
        "outputId": "537583d6-82b8-486d-db78-19efe667b8ec"
      },
      "outputs": [
        {
          "data": {
            "text/plain": [
              "Text(0.5, 1.0, 'Data visualization')"
            ]
          },
          "execution_count": 43,
          "metadata": {},
          "output_type": "execute_result"
        },
        {
          "data": {
            "image/png": "[encoded data removed]",
            "text/plain": [
              "<Figure size 432x288 with 1 Axes>"
            ]
          },
          "metadata": {
            "needs_background": "light"
          },
          "output_type": "display_data"
        }
      ],
      "source": [
        "import numpy as np\n",
        "import matplotlib.pyplot as plt\n",
        "\n",
        "mean1=np.array([0,0])\n",
        "mean2=np.array([1,1])\n",
        "var=np.array([[1,0.1],[0.1,1]])\n",
        "np.random.seed(0)\n",
        "data1=np.random.multivariate_normal(mean1,var,500)\n",
        "data2=np.random.multivariate_normal(mean2,var,500)\n",
        "\n",
        "# training data\n",
        "data_train=np.concatenate((data1[:-100,],data2[:-100]))\n",
        "label=np.concatenate((np.zeros(data1.shape[0]-100),np.ones(data2.shape[0]-100)))\n",
        "\n",
        "plt.figure()\n",
        "plt.scatter(data_train[:,0],data_train[:,1],c=label)\n",
        "plt.title('Data visualization')\n",
        "plt.show()"
      ]
    },
    {
      "cell_type": "code",
      "execution_count": 44,
      "metadata": {
        "id": "SNvi2JezmTdv"
      },
      "outputs": [],
      "source": [
        "def euclidean_distance(row1, row2):\n",
        "  return np.linalg.norm(row1-row2)"
      ]
    },
    {
      "cell_type": "code",
      "execution_count": 45,
      "metadata": {
        "id": "p7bHKojymWDK"
      },
      "outputs": [],
      "source": [
        "def get_neighbors(train, label_train, test_row, num_neighbors):\n",
        "  ## write your code here\n",
        "  distance = []\n",
        "  for i in range(train.shape[0]):\n",
        "    train_row = train[i, :]               # get ith training FV, and corresponding label\n",
        "    train_label = label_train[i]\n",
        "    d = euclidean_distance(test_row, train_row)\n",
        "    distance.append((train_row, train_label, d))\n",
        "    \n",
        "  distance.sort(key=lambda tup: tup[2])\n",
        "\n",
        "  neighbors = []\n",
        "  for i in range(num_neighbors):\n",
        "    neighbors.append(distance[i])    \n",
        "\n",
        "  return neighbors\n"
      ]
    },
    {
      "cell_type": "code",
      "execution_count": 46,
      "metadata": {
        "id": "8o48BauFmX6G"
      },
      "outputs": [],
      "source": [
        "def predict_classification(neighbors):\n",
        "  ## write your code here\n",
        "  prediction = []\n",
        "  for i in range(len(neighbors)):\n",
        "        prediction.append(neighbors[i][1])\n",
        "  prediction = max(set(prediction), key=prediction.count)\n",
        "  return prediction\n"
      ]
    },
    {
      "cell_type": "code",
      "execution_count": 47,
      "metadata": {
        "id": "wGgiErPimZue"
      },
      "outputs": [],
      "source": [
        "# test data generation\n",
        "data_test=np.concatenate((data1[-100:],data2[-100:]))\n",
        "label_test=np.concatenate((np.zeros(100),np.ones(100)))"
      ]
    },
    {
      "cell_type": "code",
      "execution_count": 71,
      "metadata": {
        "colab": {
          "base_uri": "https://localhost:8080/"
        },
        "id": "ELgGMgKnmeKu",
        "outputId": "d1b24c5c-aead-4f77-8784-a15583360091"
      },
      "outputs": [
        {
          "name": "stdout",
          "output_type": "stream",
          "text": [
            "Testing Accuracy= 65.5\n"
          ]
        }
      ],
      "source": [
        "K=2\n",
        "\n",
        "pred_label=np.zeros(data_test.shape[0])\n",
        "for i in range(data_test.shape[0]):\n",
        "  neig=get_neighbors(data_train,label, data_test[i,:], K)\n",
        "  pred_label[i]=predict_classification(neig)\n",
        "\n",
        "accuracy=(len(np.where(pred_label==label_test)[0])/len(label_test))*100\n",
        "print('Testing Accuracy=',accuracy)"
      ]
    },
    {
      "cell_type": "markdown",
      "metadata": {
        "id": "kZ3mcjd3nFg2"
      },
      "source": [
        "**Use the Sci-kit Learn Package and perform Classification on the above dataset using the K-Nearest Neighbour algorithm**"
      ]
    },
    {
      "cell_type": "code",
      "execution_count": 70,
      "metadata": {
        "id": "XmfzWbEZnbX-"
      },
      "outputs": [
        {
          "name": "stdout",
          "output_type": "stream",
          "text": [
            "Testing Accuracy = 65.5\n",
            "Training Accuracy = 83.25\n"
          ]
        }
      ],
      "source": [
        "## Write your code here\n",
        "from sklearn.neighbors import KNeighborsClassifier\n",
        "model = KNeighborsClassifier(n_neighbors=2)\n",
        "model.fit(data_train, label)\n",
        "\n",
        "pred_label_te = model.predict(data_test)\n",
        "pred_label_tr = model.predict(data_train)\n",
        "\n",
        "te_accuracy=(len(np.where(pred_label_te==label_test)[0])/len(label_test))*100\n",
        "tr_accuracy=(len(np.where(pred_label_tr==label)[0])/len(label))*100\n",
        "print('Testing Accuracy =',te_accuracy)\n",
        "print('Training Accuracy =',tr_accuracy)"
      ]
    },
    {
      "cell_type": "markdown",
      "metadata": {
        "id": "ygq-jJs6Lxs9"
      },
      "source": [
        "# Classification on MNIST Digit Data"
      ]
    },
    {
      "cell_type": "markdown",
      "metadata": {
        "id": "cXApOGmzMxRp"
      },
      "source": [
        "1. Read MNIST data and perform train-test split\n",
        "2. Select any 2 Classes and perform classification task using SVM, KNN and Logistic Regression algorithms with the help of Sci-Kit Learn tool\n",
        "3. Report the train and test accuracy and also display the results using confusion matrix\n",
        "4. Repeat steps 2 and 3 for all 10 Classes and tabulate the results"
      ]
    },
    {
      "cell_type": "code",
      "execution_count": 63,
      "metadata": {
        "id": "qPJhg4hhMXaE"
      },
      "outputs": [
        {
          "data": {
            "image/png": "[encoded data removed]",
            "text/plain": [
              "<Figure size 432x288 with 16 Axes>"
            ]
          },
          "metadata": {},
          "output_type": "display_data"
        }
      ],
      "source": [
        "## Write your code here\n",
        "import numpy as np\n",
        "import matplotlib.pyplot as plt \n",
        "from sklearn.utils import shuffle\n",
        "from sklearn.model_selection import train_test_split\n",
        "import idx2numpy\n",
        "\n",
        "# 60,000 small square 28×28 pixel grayscale images of handwritten single digits between 0 and 9\n",
        "img_file = 't10k-images-idx3-ubyte'\n",
        "lab_file = 't10k-labels-idx1-ubyte'\n",
        "x = idx2numpy.convert_from_file(img_file)\n",
        "y = idx2numpy.convert_from_file(lab_file)\n",
        "\n",
        "x_train, x_test, y_train, y_test = train_test_split(x, y, test_size = 0.3)\n",
        "\n",
        "class_0 = 0\n",
        "class_1 = 8\n",
        "\n",
        "# get indices of images of reqd classes\n",
        "i, = np.where(y_train == class_0)\n",
        "j, = np.where(y_train == class_1)\n",
        "# get data from those indices (for each class)\n",
        "class_0_train = x_train[i, :, :]\n",
        "class_0_label = y_train[i]\n",
        "class_1_train = x_train[j, :, :]\n",
        "class_1_label = y_train[j]\n",
        "\n",
        "train_fv = np.concatenate((class_0_train, class_1_train), axis=0)\n",
        "train_lab = np.concatenate((class_0_label,class_1_label), axis=0)\n",
        "\n",
        "[train_fv_s, train_lab_s] = shuffle(train_fv, train_lab)\n",
        "\n",
        "plt.figure()\n",
        "for i in range(16):\n",
        "  plt.subplot(4, 4, i+1)\n",
        "  plt.tight_layout()\n",
        "  plt.imshow(train_fv_s[i], cmap='gray', interpolation='none')\n",
        "  plt.title(\"Digit: {}\".format(train_lab_s[i]))\n",
        "  plt.xticks([])\n",
        "  plt.yticks([])\n",
        "plt.show()\n",
        "\n"
      ]
    },
    {
      "cell_type": "code",
      "execution_count": 64,
      "metadata": {},
      "outputs": [],
      "source": [
        "# replace the labels with 0 and 1 for simplicity\n",
        "np.place(train_lab_s, train_lab_s==class_0, [0])\n",
        "np.place(train_lab_s, train_lab_s==class_1, [1])\n",
        "\n",
        "train_fv_s = train_fv_s.astype('float32')\n",
        "\n",
        "train_fv_s /= 255\n",
        "\n",
        "flat_train_fv_s = train_fv_s.reshape(train_lab_s.shape[0], 28*28)\n"
      ]
    },
    {
      "cell_type": "code",
      "execution_count": 65,
      "metadata": {},
      "outputs": [],
      "source": [
        "i, = np.where(y_test == class_0)      \n",
        "j, = np.where(y_test == class_1)\n",
        "class_0_test = x_test[i, :, :]\n",
        "class_0_tlabel = y_test[i]\n",
        "class_1_test = x_test[j, :, :]\n",
        "class_1_tlabel = y_test[j]\n",
        "\n",
        "test_fv = np.concatenate((class_0_test, class_1_test), axis=0)\n",
        "test_lab = np.concatenate((class_0_tlabel, class_1_tlabel), axis=0)\n",
        "\n",
        "np.place(test_lab, test_lab==class_0, [0])\n",
        "np.place(test_lab, test_lab==class_1, [1])\n",
        "\n",
        "test_fv = test_fv.astype('float32') / 255\n",
        "flat_test_fv = test_fv.reshape(test_lab.shape[0], 28*28)\n"
      ]
    },
    {
      "cell_type": "code",
      "execution_count": 66,
      "metadata": {},
      "outputs": [],
      "source": [
        "# posX=[]\n",
        "# negX=[]\n",
        "# for ind, val in enumerate(train_lab_s):\n",
        "#     if val == 1:\n",
        "#         posX.append(train_fv_s[ind])\n",
        "#     else:\n",
        "#         negX.append(train_fv_s[ind])\n",
        "\n",
        "# #our data dictionary\n",
        "# data_dict2 = {-1:np.array(negX), 1:np.array(posX)}\n",
        "# print(data_dict2)\n",
        "# w_pred, b_pred = SVM_Training(data_dict2)\n",
        "# visualize(data_dict2)\n"
      ]
    },
    {
      "cell_type": "code",
      "execution_count": 75,
      "metadata": {},
      "outputs": [
        {
          "name": "stdout",
          "output_type": "stream",
          "text": [
            "Training accuracy = 100.0\n",
            "Testing accuracy =  99.28698752228165\n",
            "Confusion matrix =\n",
            " [[285   1]\n",
            " [  3 272]]\n"
          ]
        }
      ],
      "source": [
        "from sklearn.svm import LinearSVC\n",
        "from sklearn.metrics import confusion_matrix as conf_mat\n",
        "svm = LinearSVC()\n",
        "n = 2000\n",
        "svm.fit(flat_train_fv_s[0:n,:], train_lab_s[0:n])\n",
        "tr_acc_svm = svm.score(flat_train_fv_s[0:n,:], train_lab_s[0:n])\n",
        "print('Training accuracy =', tr_acc_svm*100)\n",
        "\n",
        "y_pred = svm.predict(flat_test_fv)\n",
        "te_acc_svm = svm.score(flat_test_fv, test_lab)\n",
        "print('Testing accuracy = ', te_acc_svm*100)\n",
        "print('Confusion matrix =\\n', conf_mat(test_lab, y_pred))\n"
      ]
    },
    {
      "cell_type": "code",
      "execution_count": 76,
      "metadata": {},
      "outputs": [
        {
          "name": "stdout",
          "output_type": "stream",
          "text": [
            "Testing Accuracy = 98.93048128342245\n",
            "Training Accuracy = 99.35391241923905\n",
            "Confusion Matrix =\n",
            " [[286   0]\n",
            " [  6 269]]\n"
          ]
        }
      ],
      "source": [
        "from sklearn.neighbors import KNeighborsClassifier\n",
        "model = KNeighborsClassifier(n_neighbors=2)\n",
        "model.fit(flat_train_fv_s, train_lab_s)\n",
        "\n",
        "pred_label_te = model.predict(flat_test_fv)\n",
        "pred_label_tr = model.predict(flat_train_fv_s)\n",
        "\n",
        "te_acc_knn = (len(np.where(pred_label_te==test_lab)[0])/len(test_lab))*100\n",
        "tr_acc_knn = (len(np.where(pred_label_tr==train_lab_s)[0])/len(train_lab_s))*100\n",
        "\n",
        "print('Testing Accuracy =', te_acc_knn)\n",
        "print('Training Accuracy =', tr_acc_knn)\n",
        "print('Confusion Matrix =\\n', conf_mat(test_lab, pred_label_te))"
      ]
    },
    {
      "cell_type": "code",
      "execution_count": 79,
      "metadata": {},
      "outputs": [
        {
          "name": "stdout",
          "output_type": "stream",
          "text": [
            "Training accuracy = 100.0\n",
            "Testing accuracy = 99.28698752228165\n",
            "Confusion matrix =\n",
            " [[285   1]\n",
            " [  3 272]]\n"
          ]
        }
      ],
      "source": [
        "from sklearn.linear_model import LogisticRegression\n",
        "reg = LogisticRegression(solver='liblinear')\n",
        "reg.fit(flat_train_fv_s[0:2000,:], train_lab_s[0:2000])\n",
        "tr_acc_lr = reg.score(flat_train_fv_s[0:2000,:], train_lab_s[0:2000])\n",
        "print('Training accuracy =', tr_acc_lr*100)\n",
        "y_pred = reg.predict(flat_test_fv)\n",
        "te_acc_lr = reg.score(flat_test_fv, test_lab)\n",
        "print('Testing accuracy =', te_acc_lr*100)\n",
        "print('Confusion matrix =\\n', conf_mat(test_lab, y_pred))"
      ]
    },
    {
      "cell_type": "code",
      "execution_count": null,
      "metadata": {},
      "outputs": [],
      "source": []
    },
    {
      "cell_type": "markdown",
      "metadata": {
        "id": "1vQc_i7dNlVv"
      },
      "source": [
        "**Note : If you are interested, also try classifying MNIST digit data using the code you have written for SVM, KNN and Logistic Regression** \n",
        "\n",
        "  "
      ]
    }
  ],
  "metadata": {
    "colab": {
      "name": "Lab_8_Classification.ipynb",
      "provenance": []
    },
    "kernelspec": {
      "display_name": "Python 3.9.0 64-bit",
      "language": "python",
      "name": "python3"
    },
    "language_info": {
      "codemirror_mode": {
        "name": "ipython",
        "version": 3
      },
      "file_extension": ".py",
      "mimetype": "text/x-python",
      "name": "python",
      "nbconvert_exporter": "python",
      "pygments_lexer": "ipython3",
      "version": "3.9.0"
    },
    "vscode": {
      "interpreter": {
        "hash": "5070ada8c704805c7dd85c5b71cd19812da32b57520493b705b2d0b936990ac0"
      }
    }
  },
  "nbformat": 4,
  "nbformat_minor": 0
}
